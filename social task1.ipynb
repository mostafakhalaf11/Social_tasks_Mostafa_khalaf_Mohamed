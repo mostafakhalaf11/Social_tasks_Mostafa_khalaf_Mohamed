{
 "cells": [
  {
   "cell_type": "code",
   "execution_count": 14,
   "id": "218bdd11",
   "metadata": {},
   "outputs": [
    {
     "name": "stdout",
     "output_type": "stream",
     "text": [
      "Mostafa Khalaf Mohamed First task\n"
     ]
    }
   ],
   "source": [
    "print('Mostafa Khalaf Mohamed First task')\n"
   ]
  },
  {
   "cell_type": "code",
   "execution_count": 15,
   "id": "64cd5132",
   "metadata": {},
   "outputs": [
    {
     "name": "stdout",
     "output_type": "stream",
     "text": [
      "mostafa\n",
      "25\n"
     ]
    }
   ],
   "source": [
    "name = 'mostafa'\n",
    "age = 25\n",
    "print(name)\n",
    "print(age)"
   ]
  },
  {
   "cell_type": "code",
   "execution_count": 16,
   "id": "3f911c01",
   "metadata": {},
   "outputs": [
    {
     "data": {
      "text/plain": [
       "'mostafa'"
      ]
     },
     "execution_count": 16,
     "metadata": {},
     "output_type": "execute_result"
    }
   ],
   "source": [
    "name"
   ]
  },
  {
   "cell_type": "code",
   "execution_count": 17,
   "id": "9dc4cd74",
   "metadata": {},
   "outputs": [
    {
     "data": {
      "text/plain": [
       "25"
      ]
     },
     "execution_count": 17,
     "metadata": {},
     "output_type": "execute_result"
    }
   ],
   "source": [
    "age"
   ]
  },
  {
   "cell_type": "code",
   "execution_count": 18,
   "id": "7771c1e8",
   "metadata": {},
   "outputs": [
    {
     "name": "stdout",
     "output_type": "stream",
     "text": [
      "good\n"
     ]
    }
   ],
   "source": [
    "grade = 50\n",
    "\n",
    "if grade > 25:\n",
    "    print('good')\n",
    "elif grade == 25:\n",
    "    print('pass')\n",
    "else:\n",
    "    print('Fail')\n"
   ]
  },
  {
   "cell_type": "code",
   "execution_count": 20,
   "id": "f8ef1e28",
   "metadata": {},
   "outputs": [
    {
     "data": {
      "text/plain": [
       "'Mostafa'"
      ]
     },
     "execution_count": 20,
     "metadata": {},
     "output_type": "execute_result"
    }
   ],
   "source": [
    "my_name = ['Mostafa', 'Khalaf', 'Mohamed', 'Khalaf']\n",
    "my_name[0]"
   ]
  },
  {
   "cell_type": "code",
   "execution_count": 21,
   "id": "43293b7f",
   "metadata": {},
   "outputs": [
    {
     "data": {
      "text/plain": [
       "'Khalaf'"
      ]
     },
     "execution_count": 21,
     "metadata": {},
     "output_type": "execute_result"
    }
   ],
   "source": [
    "my_name[1]"
   ]
  },
  {
   "cell_type": "code",
   "execution_count": 22,
   "id": "900e217d",
   "metadata": {},
   "outputs": [
    {
     "data": {
      "text/plain": [
       "'Mohamed'"
      ]
     },
     "execution_count": 22,
     "metadata": {},
     "output_type": "execute_result"
    }
   ],
   "source": [
    "my_name[2]"
   ]
  },
  {
   "cell_type": "code",
   "execution_count": 23,
   "id": "64fa2bff",
   "metadata": {},
   "outputs": [
    {
     "data": {
      "text/plain": [
       "'Khalaf'"
      ]
     },
     "execution_count": 23,
     "metadata": {},
     "output_type": "execute_result"
    }
   ],
   "source": [
    "my_name[3]"
   ]
  },
  {
   "cell_type": "code",
   "execution_count": 26,
   "id": "ae87125e",
   "metadata": {},
   "outputs": [
    {
     "data": {
      "text/plain": [
       "'Khalaf'"
      ]
     },
     "execution_count": 26,
     "metadata": {},
     "output_type": "execute_result"
    }
   ],
   "source": [
    "my_name[3]"
   ]
  },
  {
   "cell_type": "code",
   "execution_count": 27,
   "id": "2178e0ef",
   "metadata": {},
   "outputs": [
    {
     "data": {
      "text/plain": [
       "['Mostafa', 'Khalaf', 'Mohamed', 'Khalaf']"
      ]
     },
     "execution_count": 27,
     "metadata": {},
     "output_type": "execute_result"
    }
   ],
   "source": [
    "my_name[0:4]"
   ]
  },
  {
   "cell_type": "code",
   "execution_count": 29,
   "id": "af55184d",
   "metadata": {},
   "outputs": [
    {
     "data": {
      "text/plain": [
       "['Mostafa', 'Khalaf', 'Mohamed']"
      ]
     },
     "execution_count": 29,
     "metadata": {},
     "output_type": "execute_result"
    }
   ],
   "source": [
    "my_name[:3]"
   ]
  },
  {
   "cell_type": "code",
   "execution_count": 30,
   "id": "f6a85c06",
   "metadata": {},
   "outputs": [
    {
     "data": {
      "text/plain": [
       "['Mostafa', 'Khalaf', 'Mohamed', 'Khalaf']"
      ]
     },
     "execution_count": 30,
     "metadata": {},
     "output_type": "execute_result"
    }
   ],
   "source": [
    "my_name[0:]"
   ]
  },
  {
   "cell_type": "code",
   "execution_count": 31,
   "id": "3e921455",
   "metadata": {},
   "outputs": [
    {
     "data": {
      "text/plain": [
       "['Mostafa', 'Khalaf', 'Mohamed', 'Khalaf']"
      ]
     },
     "execution_count": 31,
     "metadata": {},
     "output_type": "execute_result"
    }
   ],
   "source": [
    "my_name[:4]"
   ]
  },
  {
   "cell_type": "code",
   "execution_count": 32,
   "id": "5b843736",
   "metadata": {},
   "outputs": [
    {
     "data": {
      "text/plain": [
       "['Mostafa', 'Khalaf', 'Mohamed', 'Khalaf']"
      ]
     },
     "execution_count": 32,
     "metadata": {},
     "output_type": "execute_result"
    }
   ],
   "source": [
    "my_name"
   ]
  },
  {
   "cell_type": "code",
   "execution_count": 33,
   "id": "f79c0ddd",
   "metadata": {},
   "outputs": [],
   "source": [
    "my_name.append('task1')"
   ]
  },
  {
   "cell_type": "code",
   "execution_count": 34,
   "id": "04ab3367",
   "metadata": {},
   "outputs": [
    {
     "data": {
      "text/plain": [
       "['Mostafa', 'Khalaf', 'Mohamed', 'Khalaf', 'task1']"
      ]
     },
     "execution_count": 34,
     "metadata": {},
     "output_type": "execute_result"
    }
   ],
   "source": [
    "my_name"
   ]
  },
  {
   "cell_type": "code",
   "execution_count": 35,
   "id": "35afc36b",
   "metadata": {},
   "outputs": [
    {
     "data": {
      "text/plain": [
       "['Mostafa', 'Khalaf', 'Mohamed', 'Khalaf', 'social', 'task1']"
      ]
     },
     "execution_count": 35,
     "metadata": {},
     "output_type": "execute_result"
    }
   ],
   "source": [
    "my_name.insert(4,'social')\n",
    "my_name"
   ]
  },
  {
   "cell_type": "code",
   "execution_count": 36,
   "id": "635921cf",
   "metadata": {},
   "outputs": [
    {
     "data": {
      "text/plain": [
       "['Mostafa', 'Khalaf', 'Mohamed', 'Khalaf', 'task1']"
      ]
     },
     "execution_count": 36,
     "metadata": {},
     "output_type": "execute_result"
    }
   ],
   "source": [
    "del my_name[4]\n",
    "my_name"
   ]
  },
  {
   "cell_type": "code",
   "execution_count": 44,
   "id": "abd3a8dc",
   "metadata": {},
   "outputs": [
    {
     "name": "stdout",
     "output_type": "stream",
     "text": [
      "Hello Mostafa!\n",
      "Hello Khalaf!\n",
      "Hello Mohamed!\n",
      "Hello Khalaf!\n",
      "Hello social!\n",
      "Hello task1!\n"
     ]
    }
   ],
   "source": [
    "my_name = ['Mostafa', 'Khalaf', 'Mohamed', 'Khalaf', 'social', 'task1']\n",
    "\n",
    "for n in my_name:\n",
    "    print('Hello ' + n + '!')"
   ]
  },
  {
   "cell_type": "code",
   "execution_count": 52,
   "id": "e0a340ca",
   "metadata": {},
   "outputs": [
    {
     "data": {
      "text/plain": [
       "['Mostafa', 'Mohamed']"
      ]
     },
     "execution_count": 52,
     "metadata": {},
     "output_type": "execute_result"
    }
   ],
   "source": [
    "empty = []\n",
    "for n in my_name:\n",
    "    if len(n) > 6:\n",
    "        empty.append(n)\n",
    "\n",
    "empty"
   ]
  },
  {
   "cell_type": "code",
   "execution_count": 56,
   "id": "8593887c",
   "metadata": {},
   "outputs": [
    {
     "data": {
      "text/plain": [
       "[('Mostafa', 'Mostafa'),\n",
       " ('Mostafa', 'Khalaf'),\n",
       " ('Mostafa', 'Mohamed'),\n",
       " ('Mostafa', 'Khalaf'),\n",
       " ('Mostafa', 'social'),\n",
       " ('Mostafa', 'task1'),\n",
       " ('Khalaf', 'Mostafa'),\n",
       " ('Khalaf', 'Khalaf'),\n",
       " ('Khalaf', 'Mohamed'),\n",
       " ('Khalaf', 'Khalaf'),\n",
       " ('Khalaf', 'social'),\n",
       " ('Khalaf', 'task1'),\n",
       " ('Mohamed', 'Mostafa'),\n",
       " ('Mohamed', 'Khalaf'),\n",
       " ('Mohamed', 'Mohamed'),\n",
       " ('Mohamed', 'Khalaf'),\n",
       " ('Mohamed', 'social'),\n",
       " ('Mohamed', 'task1'),\n",
       " ('Khalaf', 'Mostafa'),\n",
       " ('Khalaf', 'Khalaf'),\n",
       " ('Khalaf', 'Mohamed'),\n",
       " ('Khalaf', 'Khalaf'),\n",
       " ('Khalaf', 'social'),\n",
       " ('Khalaf', 'task1'),\n",
       " ('social', 'Mostafa'),\n",
       " ('social', 'Khalaf'),\n",
       " ('social', 'Mohamed'),\n",
       " ('social', 'Khalaf'),\n",
       " ('social', 'social'),\n",
       " ('social', 'task1'),\n",
       " ('task1', 'Mostafa'),\n",
       " ('task1', 'Khalaf'),\n",
       " ('task1', 'Mohamed'),\n",
       " ('task1', 'Khalaf'),\n",
       " ('task1', 'social'),\n",
       " ('task1', 'task1')]"
      ]
     },
     "execution_count": 56,
     "metadata": {},
     "output_type": "execute_result"
    }
   ],
   "source": [
    "my_name = ['Mostafa', 'Khalaf', 'Mohamed', 'Khalaf', 'social', 'task1']\n",
    "empty=[]\n",
    "\n",
    "for m in my_name:\n",
    "    for n in my_name:\n",
    "        empty.append(\n",
    "            (m,n)\n",
    "        )\n",
    "empty"
   ]
  },
  {
   "cell_type": "code",
   "execution_count": 57,
   "id": "8fba58eb",
   "metadata": {},
   "outputs": [
    {
     "data": {
      "text/plain": [
       "'Mostafa'"
      ]
     },
     "execution_count": 57,
     "metadata": {},
     "output_type": "execute_result"
    }
   ],
   "source": [
    "my_name[0]"
   ]
  },
  {
   "cell_type": "code",
   "execution_count": 58,
   "id": "86f89f6e",
   "metadata": {},
   "outputs": [
    {
     "data": {
      "text/plain": [
       "'Italian'"
      ]
     },
     "execution_count": 58,
     "metadata": {},
     "output_type": "execute_result"
    }
   ],
   "source": [
    "foreign_languages = {\n",
    "    'Alice': 'Spanish',\n",
    "    'Bob': 'French',\n",
    "    'Carol': 'Italian',\n",
    "    'Dave': 'Italian',\n",
    "}\n",
    "foreign_languages['Carol']"
   ]
  },
  {
   "cell_type": "code",
   "execution_count": 59,
   "id": "0d403ad6",
   "metadata": {},
   "outputs": [
    {
     "data": {
      "text/plain": [
       "True"
      ]
     },
     "execution_count": 59,
     "metadata": {},
     "output_type": "execute_result"
    }
   ],
   "source": [
    "'Alice' in foreign_languages"
   ]
  },
  {
   "cell_type": "code",
   "execution_count": 61,
   "id": "d6c933dc",
   "metadata": {},
   "outputs": [
    {
     "data": {
      "text/plain": [
       "False"
      ]
     },
     "execution_count": 61,
     "metadata": {},
     "output_type": "execute_result"
    }
   ],
   "source": [
    "'alice' in foreign_languages"
   ]
  },
  {
   "cell_type": "code",
   "execution_count": 62,
   "id": "ff8834b0",
   "metadata": {},
   "outputs": [
    {
     "data": {
      "text/plain": [
       "False"
      ]
     },
     "execution_count": 62,
     "metadata": {},
     "output_type": "execute_result"
    }
   ],
   "source": [
    "'Zeke' in foreign_languages"
   ]
  },
  {
   "cell_type": "code",
   "execution_count": 63,
   "id": "2a25b648",
   "metadata": {},
   "outputs": [
    {
     "data": {
      "text/plain": [
       "{'Alice': 'Spanish',\n",
       " 'Bob': 'French',\n",
       " 'Carol': 'Italian',\n",
       " 'Dave': 'Italian',\n",
       " 'Esther': 'French'}"
      ]
     },
     "execution_count": 63,
     "metadata": {},
     "output_type": "execute_result"
    }
   ],
   "source": [
    "foreign_languages['Esther'] = 'French'\n",
    "foreign_languages"
   ]
  },
  {
   "cell_type": "code",
   "execution_count": 64,
   "id": "f1db15eb",
   "metadata": {},
   "outputs": [
    {
     "data": {
      "text/plain": [
       "{'Alice': 'Spanish', 'Carol': 'Italian', 'Dave': 'Italian', 'Esther': 'French'}"
      ]
     },
     "execution_count": 64,
     "metadata": {},
     "output_type": "execute_result"
    }
   ],
   "source": [
    "del foreign_languages['Bob']\n",
    "foreign_languages"
   ]
  },
  {
   "cell_type": "code",
   "execution_count": 65,
   "id": "b7c6ef00",
   "metadata": {},
   "outputs": [
    {
     "name": "stdout",
     "output_type": "stream",
     "text": [
      "Alice is taking Spanish\n",
      "Carol is taking Italian\n",
      "Dave is taking Italian\n",
      "Esther is taking French\n"
     ]
    }
   ],
   "source": [
    "for key in foreign_languages:\n",
    "    value = foreign_languages[key]\n",
    "    print(key, 'is taking', value)"
   ]
  },
  {
   "cell_type": "code",
   "execution_count": 66,
   "id": "7b61183d",
   "metadata": {},
   "outputs": [
    {
     "name": "stdout",
     "output_type": "stream",
     "text": [
      "Alice is taking Spanish\n",
      "Carol is taking Italian\n",
      "Dave is taking Italian\n",
      "Esther is taking French\n"
     ]
    }
   ],
   "source": [
    "for key, value in foreign_languages.items():\n",
    "    print(key, 'is taking', value)"
   ]
  },
  {
   "cell_type": "code",
   "execution_count": null,
   "id": "0c46543c",
   "metadata": {},
   "outputs": [],
   "source": []
  }
 ],
 "metadata": {
  "kernelspec": {
   "display_name": "Python 3",
   "language": "python",
   "name": "python3"
  },
  "language_info": {
   "codemirror_mode": {
    "name": "ipython",
    "version": 3
   },
   "file_extension": ".py",
   "mimetype": "text/x-python",
   "name": "python",
   "nbconvert_exporter": "python",
   "pygments_lexer": "ipython3",
   "version": "3.8.8"
  }
 },
 "nbformat": 4,
 "nbformat_minor": 5
}
